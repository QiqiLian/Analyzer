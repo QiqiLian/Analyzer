{
  "nbformat": 4,
  "nbformat_minor": 0,
  "metadata": {
    "colab": {
      "provenance": [],
      "toc_visible": true,
      "history_visible": true,
      "include_colab_link": true
    },
    "kernelspec": {
      "name": "python3",
      "display_name": "Python 3"
    },
    "language_info": {
      "name": "python"
    }
  },
  "cells": [
    {
      "cell_type": "markdown",
      "metadata": {
        "id": "view-in-github",
        "colab_type": "text"
      },
      "source": [
        "<a href=\"https://colab.research.google.com/github/QiqiLian/Analyzer/blob/master/CSE390_Spring2024_HW3.ipynb\" target=\"_parent\"><img src=\"https://colab.research.google.com/assets/colab-badge.svg\" alt=\"Open In Colab\"/></a>"
      ]
    },
    {
      "cell_type": "markdown",
      "source": [
        "# Preface: Google Colab\n",
        "\n",
        "For this assignment, we will use Google Colab. This will allow us to use resources like GPUs that may not be available on our personal computers, and ensure identical use of external dependencies for everybody. You can use your Stony Brook (`*.stonybrook.edu`) account and save the results on Google Drive.\n",
        "\n",
        "To get started, go to the [Google Colab Notebook](https://colab.research.google.com/notebooks/). There, you'll find a tutorial called *Overview of Colaboratory Features*, which provides a quick overview on using Google Colab. There is also this concise [Google Colab Tutorial](https://colab.research.google.com/drive/16pBJQePbqkz3QFV54L4NIkOn1kwpuRrj).\n",
        "\n",
        "Colab is built on top of Jupyter notebook. But remember, inactivity will disconnect your runtime environment."
      ],
      "metadata": {
        "id": "__7l8QdIHhaP"
      }
    },
    {
      "cell_type": "markdown",
      "source": [
        "## Libraries\n",
        "\n",
        "You are encouraged to use the following libraries as and when needed. This assignment is as much about learning to use available tools, as it is about understanding how to implement simple aspects of computational finance.\n",
        "\n",
        "- **NumPy**: the most important library for numerical computations in Python; provides support for arrays and matrices; has a large collection of high-level mathematical functions used in linear algebra and probability/statistics.\n",
        "- **Pandas**: for high-performance, easy-to-use data structures and data analysis; particularly good for data manipulation and analysis; offers `DataFrame` objects, which are ideal for time-series data.\n",
        "- **SciPy** or **PyTorch**: for optimization, regression, interpolation, etc.\n",
        "- **Statsmodels**: statistical modeling library built on top of NumPy and SciPy.\n",
        "- **Matplotlib** and **Seaborn**: for plotting and visualization."
      ],
      "metadata": {
        "id": "7KPaqjCXP25R"
      }
    },
    {
      "cell_type": "markdown",
      "source": [
        "# American Put Options (20 points)\n",
        "\n",
        "Write your solution to the first question (**American Put Options**) in the cell below. You are free to have additional methods, but the user should be able to call only the `price_american_put_options` function to obtain the results corresponding to each line in the input text or file."
      ],
      "metadata": {
        "id": "fEpMH7EsLbT6"
      }
    },
    {
      "cell_type": "code",
      "source": [
        "import numpy as np\n",
        "\n",
        "def price_american_put_options(input_text: str | bytes) -> None:\n",
        "    # Check if input_text is the path to a file\n",
        "    if isinstance(input_text, str) and '\\n' not in input_text:\n",
        "        with open(input_text, 'r') as file:\n",
        "            lines = file.read().strip().split('\\n')\n",
        "    else:\n",
        "        lines = input_text.strip().split('\\n')\n",
        "\n",
        "    for line in lines:\n",
        "        params = line.split('\\t')\n",
        "        risk_free_rate = float(params[0])\n",
        "        time = float(params[1])\n",
        "        num_steps = int(params[2])\n",
        "        volatility = float(params[3])\n",
        "        initial_price = float(params[4])\n",
        "        strike_price = float(params[5])\n",
        "        print(value_of_american_put_option(risk_free_rate, time, num_steps, volatility, initial_price, strike_price))\n",
        "\n",
        "def value_of_american_put_option(risk_free_rate: float, time: float, num_steps: int, volatility: float, initial_price: float, strike_price: float) -> float:\n",
        "    # Calculate parameters for the binomial tree\n",
        "    dt = time / num_steps\n",
        "    u = np.exp(volatility * np.sqrt(dt))\n",
        "    d = 1 / u\n",
        "    p = (np.exp(risk_free_rate * dt) - d) / (u - d)\n",
        "\n",
        "    # Initialize arrays to hold the stock prices and option values\n",
        "    stock_prices = np.zeros(num_steps + 1)\n",
        "    option_values = np.zeros(num_steps + 1)\n",
        "\n",
        "    # Populate the stock prices at maturity\n",
        "    for i in range(num_steps + 1):\n",
        "        stock_prices[i] = initial_price * (u ** (num_steps - i)) * (d ** i)\n",
        "        option_values[i] = max(0, strike_price - stock_prices[i])\n",
        "\n",
        "    # Recursive calculation of option values\n",
        "    for i in range(num_steps - 1, -1, -1):\n",
        "        for j in range(i + 1):\n",
        "            option_values[j] = max(strike_price - stock_prices[j],\n",
        "                                   np.exp(-risk_free_rate * dt) * (p * option_values[j] + (1 - p) * option_values[j + 1]))\n",
        "        # No need to consider early exercise for a down step as the stock price is lower\n",
        "\n",
        "    return option_values[0]\n"
      ],
      "metadata": {
        "id": "WqYjnme1Ia_B"
      },
      "execution_count": 12,
      "outputs": []
    },
    {
      "cell_type": "markdown",
      "source": [
        "# Asian Call Options (20 points)\n",
        "\n",
        "Write your solution to the second question (**Asian Call Options**) in the cell below. You are free create additional functions, but the user must be able to call `price_asian_call_options` to obtain the results corresponding to each line in the input text or file."
      ],
      "metadata": {
        "id": "Gba-hgayOEoY"
      }
    },
    {
      "cell_type": "code",
      "source": [
        "import numpy as np\n",
        "\n",
        "def price_asian_call_options(input_text: str | bytes) -> None:\n",
        "    lines = input_text.strip().split('\\n') if isinstance(input_text, str) else input_text.decode().strip().split('\\n')\n",
        "    for line in lines:\n",
        "      params = line.split('\\t')\n",
        "      risk_free_rate = float(params[0])\n",
        "      time = float(params[1])\n",
        "      num_steps = int(params[2])  # Convert to int here\n",
        "      volatility = float(params[3])\n",
        "      initial_price = float(params[4])\n",
        "      strike_price = float(params[5])\n",
        "      print(value_of_american_put_option(risk_free_rate, time, num_steps, volatility, initial_price, strike_price))\n",
        "\n",
        "\n",
        "def calculate_asian_call_option_price(risk_free_rate, time, num_steps, volatility, initial_price, strike_price):\n",
        "    dt = time / num_steps\n",
        "    u = np.exp(volatility * np.sqrt(dt))\n",
        "    d = 1 / u\n",
        "    p = (np.exp(risk_free_rate * dt) - d) / (u - d)\n",
        "\n",
        "    # Initialize the binomial tree\n",
        "    stock_price_tree = np.zeros((num_steps + 1, num_steps + 1))\n",
        "    for i in range(num_steps + 1):\n",
        "        for j in range(i + 1):\n",
        "            stock_price_tree[j, i] = initial_price * (u ** (i - j)) * (d ** j)\n",
        "\n",
        "    # Initialize the option value tree\n",
        "    option_value_tree = np.zeros((num_steps + 1, num_steps + 1))\n",
        "\n",
        "    # Calculate the option value at each node\n",
        "    for i in range(num_steps + 1):\n",
        "        running_average = (initial_price * (i + 1) + np.cumsum(stock_price_tree[:i + 1, i])) / (i + 2)\n",
        "        option_value_tree[:i + 1, i] = np.maximum(running_average - strike_price, 0)\n",
        "\n",
        "    # Backward induction for option price\n",
        "    for i in range(num_steps - 1, -1, -1):\n",
        "        for j in range(i + 1):\n",
        "            expected_value = np.exp(-risk_free_rate * dt) * (p * option_value_tree[j, i + 1] + (1 - p) * option_value_tree[j + 1, i + 1])\n",
        "            running_average = (initial_price * (i + 1) + np.cumsum(stock_price_tree[:j + 1, i])) / (i + 2)\n",
        "            option_value_tree[j, i] = max(np.maximum(running_average - strike_price, 0), expected_value)\n",
        "\n",
        "    return option_value_tree[0, 0]\n",
        "    pass  # TODO"
      ],
      "metadata": {
        "id": "HQOfFLLBOwkt"
      },
      "execution_count": 19,
      "outputs": []
    },
    {
      "cell_type": "markdown",
      "source": [
        "# Linear Time Series Models\n",
        "\n",
        "Start by completing the `README` section below, which should provide a precise explanation of how to run your code on the given data (including providing the input tab-separated file).\n",
        "\n",
        "**Note 1:** At no point should the user/grader need to change anything in your code. For example, the input file should not be hard-coded in your program!\n",
        "\n",
        "**Note 2:** Your `README` should very clearly mention exactly which function the user should call, and how the user should provide the tab-separated file as input.\n",
        "\n",
        "**Note 3:** Your implementation must be supported by proper documentation in the form of docstrings, as shown in earlier cells where the function signatures were already provided. (**5 points**)"
      ],
      "metadata": {
        "id": "KhCCvffYPF4C"
      }
    },
    {
      "cell_type": "markdown",
      "source": [
        "### README (5 points)\n",
        "\n",
        "*TODO*"
      ],
      "metadata": {
        "id": "NVpQ6uj-Sz7I"
      }
    },
    {
      "cell_type": "markdown",
      "source": [
        "### AR($p$) and MA($q$) implementation (20 points)"
      ],
      "metadata": {
        "id": "yxx2cZDoVMOO"
      }
    },
    {
      "cell_type": "code",
      "source": [
        "# TODO: Your AR and MA model implementations go here"
      ],
      "metadata": {
        "id": "udncRsiAU-pK"
      },
      "execution_count": null,
      "outputs": []
    },
    {
      "cell_type": "markdown",
      "source": [
        "### ACF and PACF visualization (10 points)"
      ],
      "metadata": {
        "id": "L37dpcTYS8gl"
      }
    },
    {
      "cell_type": "code",
      "source": [
        "# TODO: write the code to generate two plots (one for ACF and one for PACF)."
      ],
      "metadata": {
        "id": "Hq9OzYjQTcGg"
      },
      "execution_count": null,
      "outputs": []
    },
    {
      "cell_type": "markdown",
      "source": [
        "### The Simple Autoregressive Model AR($p$) (10 points)\n",
        "\n",
        "- TODO: clearly state your choice of $p$\n",
        "- TODO: clearly state your estimated parameter values (for the sake of easier interpretaion, please use the same symbols we have used in our lectures)\n",
        "- TODO: How did you arrive at this choice of $p$? Provide a precise description of your process and a brief justification.\n"
      ],
      "metadata": {
        "id": "JU7s4PZ9Tk0B"
      }
    },
    {
      "cell_type": "markdown",
      "source": [
        "### The Moving Average Model MA($q$) (10 points)\n",
        "\n",
        "- TODO: clearly state your choice of $q$\n",
        "- TODO: clearly state your estimated parameter values (for the sake of easier interpretaion, please use the same symbols we have used in our lectures)\n",
        "- TODO: How did you arrive at this choice of $q$? Provide a precise description of your process and a brief justification."
      ],
      "metadata": {
        "id": "WjllSmcfULJm"
      }
    },
    {
      "cell_type": "markdown",
      "source": [
        "# Collaboration and Resource Use Policy\n",
        "\n",
        "You may discuss any details of this assignment at a conceptual level with anyone. In fact, discussion of ideas and helping each other to gain a better understanding of the concepts and the mathematical principles is encouraged. But any written answers (natural language or programming language) must be entirely your own original work.\n",
        "\n",
        "You are also encouraged to use the libraries mentioned at the start of this notebook. The use of online resources (e.g., StackOverflow) that can help you understand specific functions in these libraries is also encouraged.\n",
        "\n",
        "There must not be any collaboration in programming (including the design, implementation, and debugging of code). There must not be any code in your submission that is written by anyone other than you (whether human or AI). Submitted code will be checked against other submissions AND against AI-generated code, and evidence of plagiarism will lead to academic dishonesty charges."
      ],
      "metadata": {
        "id": "j4YzDKXPW_FI"
      }
    },
    {
      "cell_type": "markdown",
      "source": [
        "# What to submit?\n",
        "\n",
        "**This assignment is due by 11:59 pm, APR 30 (Tuesday)**\n",
        "\n",
        "1. Make your colab notebook publicly accessible. You can do this by clicking \"Share\" on the top-right corner of your notebook and make sure \"anyone with the link\" can view your notebook. Also make sure that viewers are allowed to download your notebook. Then, **put this link in the comment section of your submission on Brightspace**.\n",
        "\n",
        "2. Create an empty folder (locally, on your computer) called `firstname-lastname-cse390-hw3`. For example, John Doe will create `john-doe-cse354-hw3`.\n",
        "    * Download this colab notebook with all the questions (code as well as the text questions) implemented/answered. This will be a single Python notebook, as a `.ipynb` file. Put the notebook in your folder.\n",
        "    \n",
        "    Zip this folder (i.e., create `firstname-lastname-cse390-hw3.zip`) and submit on Brightspace.\n",
        "\n",
        "Once unzipped, your submission is expected to have the following structure:\n",
        "\n",
        "```\n",
        "john-doe-cse354-hw1\n",
        "└── CSE390-Spring2024-HW3.ipynb\n",
        "```"
      ],
      "metadata": {
        "id": "1DoTXHP5WABu"
      }
    }
  ]
}